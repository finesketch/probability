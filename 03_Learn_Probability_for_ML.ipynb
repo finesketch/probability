{
  "nbformat": 4,
  "nbformat_minor": 0,
  "metadata": {
    "colab": {
      "name": "03 Learn Probability for ML.ipynb",
      "provenance": [],
      "authorship_tag": "ABX9TyNpuX39m44BVyPjZ2+J8Ua4",
      "include_colab_link": true
    },
    "kernelspec": {
      "name": "python3",
      "display_name": "Python 3"
    },
    "language_info": {
      "name": "python"
    }
  },
  "cells": [
    {
      "cell_type": "markdown",
      "metadata": {
        "id": "view-in-github",
        "colab_type": "text"
      },
      "source": [
        "<a href=\"https://colab.research.google.com/github/finesketch/probability/blob/main/03_Learn_Probability_for_ML.ipynb\" target=\"_parent\"><img src=\"https://colab.research.google.com/assets/colab-badge.svg\" alt=\"Open In Colab\"/></a>"
      ]
    },
    {
      "cell_type": "markdown",
      "metadata": {
        "id": "VkgokFz6TJse"
      },
      "source": [
        "- Not everyone should learn probability; it depends where you are in your journey of learning machine learning.\n",
        "\n",
        "- Many algorithms are designed using the tools and techniques from probability, such as Naive Bayes and Probabilistic Graphical Models.\n",
        "\n",
        "- The maximum likelihood framework that underlies the training of many machine learning algorithms comes from the field of probability."
      ]
    }
  ]
}