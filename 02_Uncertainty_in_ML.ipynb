{
  "nbformat": 4,
  "nbformat_minor": 0,
  "metadata": {
    "colab": {
      "name": "02 Uncertainty in ML.ipynb",
      "provenance": [],
      "authorship_tag": "ABX9TyO0MZC49iXuV0avaMlH+SO/",
      "include_colab_link": true
    },
    "kernelspec": {
      "name": "python3",
      "display_name": "Python 3"
    },
    "language_info": {
      "name": "python"
    }
  },
  "cells": [
    {
      "cell_type": "markdown",
      "metadata": {
        "id": "view-in-github",
        "colab_type": "text"
      },
      "source": [
        "<a href=\"https://colab.research.google.com/github/finesketch/probability/blob/main/02_Uncertainty_in_ML.ipynb\" target=\"_parent\"><img src=\"https://colab.research.google.com/assets/colab-badge.svg\" alt=\"Open In Colab\"/></a>"
      ]
    },
    {
      "cell_type": "markdown",
      "metadata": {
        "id": "sqx5GEauJ1VK"
      },
      "source": [
        "#### noisy observations\n",
        "probability and statistics help us to understand and quantify the expected value and variability of variables in our observations from the domain.\n",
        "\n",
        "#### incomplete coverage of the domain\n",
        "probability helps to understand and quantify the expected distribution and density of observations in the domain.\n",
        "\n",
        "#### model error\n",
        "probability helps to understand and quantify the expected capability and variance in performance of our predictive models when applied to new data."
      ]
    }
  ]
}