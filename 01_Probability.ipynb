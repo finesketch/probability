{
  "nbformat": 4,
  "nbformat_minor": 0,
  "metadata": {
    "colab": {
      "name": "01_Probability.ipynb",
      "provenance": [],
      "authorship_tag": "ABX9TyNk2zLhPFjz6CYD0uwZiwBl",
      "include_colab_link": true
    },
    "kernelspec": {
      "name": "python3",
      "display_name": "Python 3"
    },
    "language_info": {
      "name": "python"
    }
  },
  "cells": [
    {
      "cell_type": "markdown",
      "metadata": {
        "id": "view-in-github",
        "colab_type": "text"
      },
      "source": [
        "<a href=\"https://colab.research.google.com/github/finesketch/probability/blob/main/01_Probability.ipynb\" target=\"_parent\"><img src=\"https://colab.research.google.com/assets/colab-badge.svg\" alt=\"Open In Colab\"/></a>"
      ]
    },
    {
      "cell_type": "markdown",
      "metadata": {
        "id": "3gWKgC37Cp0W"
      },
      "source": [
        "# Probability\n",
        "\n",
        "### Uncertainty is Normal\n",
        "\n",
        "Probability provides the language and tools to handle uncertainty.\n",
        "\n",
        "\n",
        "### Probability of an Event\n",
        "\n",
        "Probability is a measure that quantifies the likelihood that an event will occur.\n",
        "\n",
        "$$\n",
        "\\displaystyle\\text{Probability} = \\displaystyle\\frac{\\text{occurances}}{\\text{non-occurrences} + \\text{occurrences}}\n",
        "$$\n",
        "\n",
        "The assigned probability is a fractional value and is always in the range between 0 and 1, where 0 indicates no probability and 1 represents full probability.\n",
        "\n",
        "For example: 1 to 6 are equally likely from the rool of a fair die, so each occurrence has a probability of\n",
        "\n",
        "$$\n",
        "\\frac{1}{6}, \\text{or 0.166667 of occurring}\n",
        "$$\n",
        "\n",
        "Probability is often written as a lowercase p and may be stated as a percentage by multiplying the value by 100. a probability of 0.3 is 30%.\n",
        "\n",
        "$$\n",
        "\\text{P(flood)} = \\text{probability of a flood}\n",
        "$$\n",
        "\n",
        "On the other hand, it can be written as following:\n",
        "\n",
        "$$\n",
        "\\text{1 − P (flood)} = \\text{probability of \"no\" flood}\n",
        "$$\n",
        "\n",
        "\n",
        "### Probability Theory\n",
        "\n",
        "As a field of study, it is often referred to as probability theory to differentiate it from the likelihood of a specific event.\n",
        "\n",
        "Probability theory has 3 important concepts:\n",
        "- **Event(A):** An outcome\n",
        "- **Sample Space(S):** The set of possible outcomes or events\n",
        "- **Probability Function(P):** The probability function to assign a value (0 to 1)\n",
        "\n",
        "The likelihood of an event (A) being drawn from the sample space (S) is determined by the probability function (P ).\n",
        "\n",
        "The shape or distribution of all events in the sample space is called the probability distribution.\n",
        "\n",
        "\n",
        "### Two Schools of Probability\n",
        "\n",
        "#### Frequentist Probability\n",
        "The frequentist approach to probability is objective. Events are observed and counted, and their frequencies provide the basis for directly calculating a probability, hence the name frequentist.\n",
        "\n",
        "#### Bayesian Probability\n",
        "The Bayesian approach to probability is subjective. Probabilities are assigned to events based on evidence and personal belief and are centered around Bayes’ theorem, hence the name Bayesian."
      ]
    }
  ]
}